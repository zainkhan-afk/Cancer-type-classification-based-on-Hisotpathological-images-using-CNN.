{
  "nbformat": 4,
  "nbformat_minor": 0,
  "metadata": {
    "colab": {
      "name": "Final_Project.ipynb",
      "provenance": [],
      "collapsed_sections": []
    },
    "kernelspec": {
      "name": "python3",
      "display_name": "Python 3"
    },
    "accelerator": "GPU"
  },
  "cells": [
    {
      "cell_type": "markdown",
      "metadata": {
        "id": "c9QcGnGPdX2C",
        "colab_type": "text"
      },
      "source": [
        "\n",
        "**Install requirements**"
      ]
    },
    {
      "cell_type": "code",
      "metadata": {
        "id": "k9O3aM3Tb28q",
        "colab_type": "code",
        "colab": {}
      },
      "source": [
        "!pip3 install 'torch==1.3.1'\n",
        "!pip3 install 'torchvision==0.4.2'\n",
        "!pip3 install 'Pillow-SIMD'\n",
        "!pip3 install 'tqdm'"
      ],
      "execution_count": null,
      "outputs": []
    },
    {
      "cell_type": "markdown",
      "metadata": {
        "id": "fo942LMOdlh4",
        "colab_type": "text"
      },
      "source": [
        "**Import libraries**"
      ]
    },
    {
      "cell_type": "code",
      "metadata": {
        "id": "DokFOdD1dJEl",
        "colab_type": "code",
        "colab": {}
      },
      "source": [
        "import os\n",
        "import logging\n",
        "\n",
        "import torch\n",
        "import torch.nn as nn\n",
        "import torch.optim as optim\n",
        "from torch.utils.data import Subset, DataLoader\n",
        "from torch.backends import cudnn\n",
        "\n",
        "import torchvision\n",
        "from torchvision import transforms\n",
        "from torchvision.models import alexnet\n",
        "\n",
        "from PIL import Image\n",
        "from tqdm import tqdm"
      ],
      "execution_count": null,
      "outputs": []
    },
    {
      "cell_type": "markdown",
      "metadata": {
        "id": "OIDLJuIXK_vh",
        "colab_type": "text"
      },
      "source": [
        "**Set Arguments**"
      ]
    },
    {
      "cell_type": "code",
      "metadata": {
        "id": "d5PkYfqfK_SA",
        "colab_type": "code",
        "colab": {}
      },
      "source": [
        "DEVICE = 'cuda' # 'cuda' or 'cpu'\n",
        "\n",
        "NUM_CLASSES = 22 # 101 + 1: There is am extra Background class that should be removed \n",
        "\n",
        "BATCH_SIZE = 256     # Higher batch sizes allows for larger learning rates. An empirical heuristic suggests that, when changing\n",
        "                     # the batch size, learning rate should change by the same factor to have comparable results\n",
        "\n",
        "LR = 1e-2            # The initial Learning Rate\n",
        "MOMENTUM = 0.9       # Hyperparameter for SGD, keep this at 0.9 when using SGD\n",
        "WEIGHT_DECAY = 5e-5  # Regularization, you can keep this at the default\n",
        "\n",
        "NUM_EPOCHS = 50      # Total number of training epochs (iterations over dataset)\n",
        "STEP_SIZE = 40       # How many epochs before decreasing learning rate (if using a step-down policy)\n",
        "GAMMA = 0.1          # Multiplicative factor for learning rate step-down\n",
        "\n",
        "LOG_FREQUENCY = 10"
      ],
      "execution_count": null,
      "outputs": []
    },
    {
      "cell_type": "markdown",
      "metadata": {
        "id": "9gwii0TBHvzh",
        "colab_type": "text"
      },
      "source": [
        "**Define Data Preprocessing**"
      ]
    },
    {
      "cell_type": "code",
      "metadata": {
        "id": "QUDdw4j2H0Mc",
        "colab_type": "code",
        "colab": {}
      },
      "source": [
        "# Define transforms for training phase\n",
        "train_transform = transforms.Compose([transforms.Resize(256),      # Resizes short size of the PIL image to 256\n",
        "                                      transforms.CenterCrop(224),  # Crops a central square patch of the image\n",
        "                                                                   # 224 because torchvision's AlexNet needs a 224x224 input!\n",
        "                                                                   # Remember this when applying different transformations, otherwise you get an error\n",
        "                                      transforms.ToTensor(), # Turn PIL Image to torch.Tensor\n",
        "                                      transforms.Normalize((0.5, 0.5, 0.5), (0.5, 0.5, 0.5)) # Normalizes tensor with mean and standard deviation\n",
        "])\n",
        "# Define transforms for the evaluation phase\n",
        "eval_transform = transforms.Compose([transforms.Resize(256),\n",
        "                                      transforms.CenterCrop(224),\n",
        "                                      transforms.ToTensor(),\n",
        "                                      transforms.Normalize((0.5, 0.5, 0.5), (0.5, 0.5, 0.5))                                    \n",
        "])"
      ],
      "execution_count": null,
      "outputs": []
    },
    {
      "cell_type": "markdown",
      "metadata": {
        "id": "2qYIHPzYLY7i",
        "colab_type": "text"
      },
      "source": [
        "**Prepare Dataset**"
      ]
    },
    {
      "cell_type": "code",
      "metadata": {
        "id": "QfVq_uDHLbsR",
        "colab_type": "code",
        "colab": {
          "base_uri": "https://localhost:8080/",
          "height": 158
        },
        "outputId": "1bd0b2f4-a173-4af5-b1ec-c770dabd2527"
      },
      "source": [
        "# Clone github repository with data\n",
        "if not os.path.isdir('./CancerDataset'):\n",
        "  !git clone https://github.com/zainkhan-afk/CancerDataset.git\n",
        "\n",
        "DATA_DIR = 'CancerDataset/Dataset'\n",
        "\n",
        "# Prepare Pytorch train/test Datasets\n",
        "train_dataset = torchvision.datasets.ImageFolder(DATA_DIR, transform=train_transform)\n",
        "test_dataset = torchvision.datasets.ImageFolder(DATA_DIR, transform=eval_transform)\n",
        "\n",
        "train_indexes = [idx for idx in range(len(train_dataset)) if idx % 5]\n",
        "test_indexes = [idx for idx in range(len(test_dataset)) if not idx % 5]\n",
        "\n",
        "train_dataset = Subset(train_dataset, train_indexes)\n",
        "test_dataset = Subset(test_dataset, test_indexes)\n",
        "\n",
        "# Check dataset sizes\n",
        "print('Train Dataset: {}'.format(len(train_dataset)))\n",
        "print('Test Dataset: {}'.format(len(test_dataset)))"
      ],
      "execution_count": null,
      "outputs": [
        {
          "output_type": "stream",
          "text": [
            "Cloning into 'CancerDataset'...\n",
            "remote: Enumerating objects: 43450, done.\u001b[K\n",
            "remote: Total 43450 (delta 0), reused 0 (delta 0), pack-reused 43450\u001b[K\n",
            "Receiving objects: 100% (43450/43450), 591.84 MiB | 46.30 MiB/s, done.\n",
            "Resolving deltas: 100% (2/2), done.\n",
            "Checking out files: 100% (48524/48524), done.\n",
            "Train Dataset: 38819\n",
            "Test Dataset: 9705\n"
          ],
          "name": "stdout"
        }
      ]
    },
    {
      "cell_type": "markdown",
      "metadata": {
        "id": "FYEDQ7Z21ldN",
        "colab_type": "text"
      },
      "source": [
        "**Prepare Dataloaders**"
      ]
    },
    {
      "cell_type": "code",
      "metadata": {
        "id": "VriRw8SI1nle",
        "colab_type": "code",
        "colab": {}
      },
      "source": [
        "# Dataloaders iterate over pytorch datasets and transparently provide useful functions (e.g. parallelization and shuffling)\n",
        "train_dataloader = DataLoader(train_dataset, batch_size=BATCH_SIZE, shuffle=True, num_workers=4, drop_last=True)\n",
        "test_dataloader = DataLoader(test_dataset, batch_size=BATCH_SIZE, shuffle=False, num_workers=4)"
      ],
      "execution_count": null,
      "outputs": []
    },
    {
      "cell_type": "markdown",
      "metadata": {
        "id": "gbZ1t5Qs2z4j",
        "colab_type": "text"
      },
      "source": [
        "**Prepare Network**"
      ]
    },
    {
      "cell_type": "code",
      "metadata": {
        "id": "exHUjtXa22DN",
        "colab_type": "code",
        "colab": {}
      },
      "source": [
        "net = alexnet() # Loading AlexNet model\n",
        "\n",
        "# AlexNet has 1000 output neurons, corresponding to the 1000 ImageNet's classes\n",
        "# We need 101 outputs for Caltech-101\n",
        "net.classifier[6] = nn.Linear(4096, NUM_CLASSES) # nn.Linear in pytorch is a fully connected layer\n",
        "                                                 # The convolutional layer is nn.Conv2d\n",
        "\n",
        "# We just changed the last layer of AlexNet with a new fully connected layer with 101 outputs\n",
        "# It is mandatory to study torchvision.models.alexnet source code"
      ],
      "execution_count": null,
      "outputs": []
    },
    {
      "cell_type": "markdown",
      "metadata": {
        "id": "KEyL3H_R4qCf",
        "colab_type": "text"
      },
      "source": [
        "**Prepare Training**"
      ]
    },
    {
      "cell_type": "code",
      "metadata": {
        "id": "9sjq00G94tSc",
        "colab_type": "code",
        "colab": {}
      },
      "source": [
        "# Define loss function\n",
        "criterion = nn.CrossEntropyLoss() # for classification, we use Cross Entropy\n",
        "\n",
        "# Choose parameters to optimize\n",
        "# To access a different set of parameters, you have to access submodules of AlexNet\n",
        "# (nn.Module objects, like AlexNet, implement the Composite Pattern)\n",
        "# e.g.: parameters of the fully connected layers: net.classifier.parameters()\n",
        "# e.g.: parameters of the convolutional layers: look at alexnet's source code ;) \n",
        "parameters_to_optimize = net.parameters() # In this case we optimize over all the parameters of AlexNet\n",
        "\n",
        "# Define optimizer\n",
        "# An optimizer updates the weights based on loss\n",
        "# We use SGD with momentum\n",
        "optimizer = optim.SGD(parameters_to_optimize, lr=LR, momentum=MOMENTUM, weight_decay=WEIGHT_DECAY)\n",
        "\n",
        "# Define scheduler\n",
        "# A scheduler dynamically changes learning rate\n",
        "# The most common schedule is the step(-down), which multiplies learning rate by gamma every STEP_SIZE epochs\n",
        "scheduler = optim.lr_scheduler.StepLR(optimizer, step_size=STEP_SIZE, gamma=GAMMA)"
      ],
      "execution_count": null,
      "outputs": []
    },
    {
      "cell_type": "markdown",
      "metadata": {
        "id": "AxYUli9d9uYQ",
        "colab_type": "text"
      },
      "source": [
        "**Train**"
      ]
    },
    {
      "cell_type": "code",
      "metadata": {
        "id": "ZcoQ5fD49yT_",
        "colab_type": "code",
        "colab": {
          "base_uri": "https://localhost:8080/",
          "height": 1000
        },
        "outputId": "48f74b0f-5af2-49df-d3e0-4cfa5149be82"
      },
      "source": [
        "# By default, everything is loaded to cpu\n",
        "net = net.to(DEVICE) # this will bring the network to GPU if DEVICE is cuda\n",
        "\n",
        "cudnn.benchmark # Calling this optimizes runtime\n",
        "\n",
        "lossVec = []\n",
        "accVec = []\n",
        "\n",
        "lowestLoss = 1000\n",
        "modelSaveDir = '/content/model'\n",
        "modelName = '/bestModel'\n",
        "\n",
        "if not os.path.isdir(modelSaveDir):\n",
        "  os.mkdir(modelSaveDir)\n",
        "\n",
        "current_step = 0\n",
        "# Start iterating over the epochs\n",
        "for epoch in range(NUM_EPOCHS):\n",
        "  print('Starting epoch {}/{}, LR = {}'.format(epoch+1, NUM_EPOCHS, scheduler.get_lr()))\n",
        "\n",
        "  # Iterate over the dataset\n",
        "  for images, labels in train_dataloader:\n",
        "    # Bring data over the device of choice\n",
        "    images = images.to(DEVICE)\n",
        "    labels = labels.to(DEVICE)\n",
        "\n",
        "    net.train() # Sets module in training mode\n",
        "\n",
        "    # PyTorch, by default, accumulates gradients after each backward pass\n",
        "    # We need to manually set the gradients to zero before starting a new iteration\n",
        "    optimizer.zero_grad() # Zero-ing the gradients\n",
        "\n",
        "    # Forward pass to the network\n",
        "    outputs = net(images)\n",
        "\n",
        "    # Compute loss based on output and ground truth\n",
        "    loss = criterion(outputs, labels)\n",
        "    if loss<lowestLoss:\n",
        "      lowestLoss = loss\n",
        "      torch.save(net, modelSaveDir + modelName)\n",
        "      # print(\"Model Saved\")\n",
        "\n",
        "    # Log loss\n",
        "    if current_step % LOG_FREQUENCY == 0:\n",
        "      print('Step {}, Loss {}'.format(current_step, loss.item()))\n",
        "\n",
        "    # Compute gradients for each layer and update weights\n",
        "    loss.backward()  # backward pass: computes gradients\n",
        "    optimizer.step() # update weights based on accumulated gradients\n",
        "\n",
        "    current_step += 1\n",
        "  \n",
        "  net.train(False) # Set Network to evaluation mode\n",
        "\n",
        "  running_corrects = 0\n",
        "  for images, labels in tqdm(test_dataloader):\n",
        "    images = images.to(DEVICE)\n",
        "    labels = labels.to(DEVICE)\n",
        "\n",
        "    # Forward Pass\n",
        "    outputs = net(images)\n",
        "\n",
        "    # Get predictions\n",
        "    _, preds = torch.max(outputs.data, 1)\n",
        "\n",
        "    # Update Corrects\n",
        "    running_corrects += torch.sum(preds == labels.data).data.item()\n",
        "\n",
        "  # Calculate Accuracy\n",
        "  accuracy = running_corrects / float(len(test_dataset))\n",
        "\n",
        "  print('Test Accuracy: {}'.format(accuracy))\n",
        "  accVec.append(accuracy) \n",
        "  lossVec.append(lowestLoss)\n",
        "  # Step the scheduler\n",
        "  scheduler.step() "
      ],
      "execution_count": null,
      "outputs": [
        {
          "output_type": "stream",
          "text": [
            "Starting epoch 1/50, LR = [0.01]\n",
            "Step 0, Loss 3.091320037841797\n",
            "Step 10, Loss 3.08178973197937\n",
            "Step 20, Loss 3.0690643787384033\n",
            "Step 30, Loss 3.0478060245513916\n",
            "Step 40, Loss 3.039980411529541\n",
            "Step 50, Loss 2.9958109855651855\n",
            "Step 60, Loss 2.991184711456299\n",
            "Step 70, Loss 2.9114668369293213\n",
            "Step 80, Loss 2.911703109741211\n",
            "Step 90, Loss 2.904829740524292\n",
            "Step 100, Loss 2.952801465988159\n",
            "Step 110, Loss 2.9080255031585693\n",
            "Step 120, Loss 2.906795024871826\n",
            "Step 130, Loss 2.8804519176483154\n",
            "Step 140, Loss 2.890775203704834\n"
          ],
          "name": "stdout"
        },
        {
          "output_type": "stream",
          "text": [
            "\r  0%|          | 0/38 [00:00<?, ?it/s]"
          ],
          "name": "stderr"
        },
        {
          "output_type": "stream",
          "text": [
            "Step 150, Loss 2.8772897720336914\n"
          ],
          "name": "stdout"
        },
        {
          "output_type": "stream",
          "text": [
            "100%|██████████| 38/38 [00:21<00:00,  2.79it/s]"
          ],
          "name": "stderr"
        },
        {
          "output_type": "stream",
          "text": [
            "Test Accuracy: 0.09397217928902628\n",
            "Starting epoch 2/50, LR = [0.01]\n"
          ],
          "name": "stdout"
        },
        {
          "output_type": "stream",
          "text": [
            "\n"
          ],
          "name": "stderr"
        },
        {
          "output_type": "stream",
          "text": [
            "Step 160, Loss 2.8537509441375732\n",
            "Step 170, Loss 2.8199305534362793\n",
            "Step 180, Loss 2.7553648948669434\n",
            "Step 190, Loss 2.5095527172088623\n",
            "Step 200, Loss 2.442066192626953\n",
            "Step 210, Loss 2.2616360187530518\n",
            "Step 220, Loss 2.2418713569641113\n",
            "Step 230, Loss 2.194263458251953\n",
            "Step 240, Loss 2.3289973735809326\n",
            "Step 250, Loss 2.2226693630218506\n",
            "Step 260, Loss 2.330397605895996\n",
            "Step 270, Loss 2.230647325515747\n",
            "Step 280, Loss 2.168099880218506\n",
            "Step 290, Loss 2.1352930068969727\n",
            "Step 300, Loss 2.1611850261688232\n"
          ],
          "name": "stdout"
        },
        {
          "output_type": "stream",
          "text": [
            "100%|██████████| 38/38 [00:23<00:00,  2.94it/s]"
          ],
          "name": "stderr"
        },
        {
          "output_type": "stream",
          "text": [
            "Test Accuracy: 0.25244719216898504\n",
            "Starting epoch 3/50, LR = [0.01]\n"
          ],
          "name": "stdout"
        },
        {
          "output_type": "stream",
          "text": [
            "\n"
          ],
          "name": "stderr"
        },
        {
          "output_type": "stream",
          "text": [
            "Step 310, Loss 2.1193013191223145\n",
            "Step 320, Loss 2.1137514114379883\n",
            "Step 330, Loss 2.057454824447632\n",
            "Step 340, Loss 2.040879249572754\n",
            "Step 350, Loss 2.0743408203125\n",
            "Step 360, Loss 2.0635039806365967\n",
            "Step 370, Loss 2.1411876678466797\n",
            "Step 380, Loss 2.0166945457458496\n",
            "Step 390, Loss 1.8719786405563354\n",
            "Step 400, Loss 1.8533716201782227\n",
            "Step 410, Loss 1.8223880529403687\n",
            "Step 420, Loss 1.7904231548309326\n",
            "Step 430, Loss 1.8508206605911255\n",
            "Step 440, Loss 1.5979210138320923\n",
            "Step 450, Loss 1.5826369524002075\n"
          ],
          "name": "stdout"
        },
        {
          "output_type": "stream",
          "text": [
            "100%|██████████| 38/38 [00:23<00:00,  2.76it/s]"
          ],
          "name": "stderr"
        },
        {
          "output_type": "stream",
          "text": [
            "Test Accuracy: 0.4051519835136528\n",
            "Starting epoch 4/50, LR = [0.01]\n"
          ],
          "name": "stdout"
        },
        {
          "output_type": "stream",
          "text": [
            "\n"
          ],
          "name": "stderr"
        },
        {
          "output_type": "stream",
          "text": [
            "Step 460, Loss 1.6024748086929321\n",
            "Step 470, Loss 1.5822525024414062\n",
            "Step 480, Loss 1.5266956090927124\n",
            "Step 490, Loss 1.4648282527923584\n",
            "Step 500, Loss 1.5738155841827393\n",
            "Step 510, Loss 1.5190974473953247\n",
            "Step 520, Loss 1.398268222808838\n",
            "Step 530, Loss 1.3466907739639282\n",
            "Step 540, Loss 1.295742392539978\n",
            "Step 550, Loss 1.2320029735565186\n",
            "Step 560, Loss 1.305355191230774\n",
            "Step 570, Loss 1.372541069984436\n",
            "Step 580, Loss 2.043041467666626\n",
            "Step 590, Loss 2.0841221809387207\n",
            "Step 600, Loss 1.5183780193328857\n"
          ],
          "name": "stdout"
        },
        {
          "output_type": "stream",
          "text": [
            "100%|██████████| 38/38 [00:23<00:00,  3.04it/s]"
          ],
          "name": "stderr"
        },
        {
          "output_type": "stream",
          "text": [
            "Test Accuracy: 0.45275631117980425\n",
            "Starting epoch 5/50, LR = [0.01]\n"
          ],
          "name": "stdout"
        },
        {
          "output_type": "stream",
          "text": [
            "\n"
          ],
          "name": "stderr"
        },
        {
          "output_type": "stream",
          "text": [
            "Step 610, Loss 1.4142534732818604\n",
            "Step 620, Loss 1.2723510265350342\n",
            "Step 630, Loss 1.151943564414978\n",
            "Step 640, Loss 1.108790397644043\n",
            "Step 650, Loss 1.2318800687789917\n",
            "Step 660, Loss 1.3013168573379517\n",
            "Step 670, Loss 1.2769567966461182\n",
            "Step 680, Loss 1.3563835620880127\n",
            "Step 690, Loss 1.108372688293457\n",
            "Step 700, Loss 1.1182914972305298\n",
            "Step 710, Loss 1.074555516242981\n",
            "Step 720, Loss 1.1462279558181763\n",
            "Step 730, Loss 1.569526195526123\n",
            "Step 740, Loss 1.3881165981292725\n",
            "Step 750, Loss 1.421079158782959\n"
          ],
          "name": "stdout"
        },
        {
          "output_type": "stream",
          "text": [
            "100%|██████████| 38/38 [00:24<00:00,  3.05it/s]"
          ],
          "name": "stderr"
        },
        {
          "output_type": "stream",
          "text": [
            "Test Accuracy: 0.5689850592478104\n",
            "Starting epoch 6/50, LR = [0.01]\n"
          ],
          "name": "stdout"
        },
        {
          "output_type": "stream",
          "text": [
            "\n"
          ],
          "name": "stderr"
        },
        {
          "output_type": "stream",
          "text": [
            "Step 760, Loss 1.1346378326416016\n",
            "Step 770, Loss 1.0775991678237915\n",
            "Step 780, Loss 0.9799559712409973\n",
            "Step 790, Loss 0.9941952228546143\n",
            "Step 800, Loss 1.0477807521820068\n",
            "Step 810, Loss 0.8877713084220886\n",
            "Step 820, Loss 0.9873955845832825\n",
            "Step 830, Loss 0.926699697971344\n",
            "Step 840, Loss 0.7828435897827148\n",
            "Step 850, Loss 0.8359473347663879\n",
            "Step 860, Loss 1.0194728374481201\n",
            "Step 870, Loss 1.1681206226348877\n",
            "Step 880, Loss 0.9107504487037659\n",
            "Step 890, Loss 0.8469670414924622\n",
            "Step 900, Loss 0.9975027441978455\n"
          ],
          "name": "stdout"
        },
        {
          "output_type": "stream",
          "text": [
            "100%|██████████| 38/38 [00:22<00:00,  3.01it/s]"
          ],
          "name": "stderr"
        },
        {
          "output_type": "stream",
          "text": [
            "Test Accuracy: 0.635342606903658\n",
            "Starting epoch 7/50, LR = [0.01]\n"
          ],
          "name": "stdout"
        },
        {
          "output_type": "stream",
          "text": [
            "\n"
          ],
          "name": "stderr"
        },
        {
          "output_type": "stream",
          "text": [
            "Step 910, Loss 0.9251003861427307\n",
            "Step 920, Loss 0.7448908090591431\n",
            "Step 930, Loss 0.6594604253768921\n",
            "Step 940, Loss 0.713503897190094\n",
            "Step 950, Loss 0.9133076667785645\n",
            "Step 960, Loss 0.729862630367279\n",
            "Step 970, Loss 0.7477402687072754\n",
            "Step 980, Loss 0.6842073798179626\n",
            "Step 990, Loss 0.7177872657775879\n",
            "Step 1000, Loss 0.9920376539230347\n",
            "Step 1010, Loss 0.7489113807678223\n",
            "Step 1020, Loss 0.958733081817627\n",
            "Step 1030, Loss 0.842147171497345\n",
            "Step 1040, Loss 0.6487128734588623\n",
            "Step 1050, Loss 0.6555545926094055\n"
          ],
          "name": "stdout"
        },
        {
          "output_type": "stream",
          "text": [
            "100%|██████████| 38/38 [00:24<00:00,  2.55it/s]"
          ],
          "name": "stderr"
        },
        {
          "output_type": "stream",
          "text": [
            "Test Accuracy: 0.7336424523441525\n",
            "Starting epoch 8/50, LR = [0.01]\n"
          ],
          "name": "stdout"
        },
        {
          "output_type": "stream",
          "text": [
            "\n"
          ],
          "name": "stderr"
        },
        {
          "output_type": "stream",
          "text": [
            "Step 1060, Loss 0.7460591197013855\n",
            "Step 1070, Loss 0.6028082966804504\n",
            "Step 1080, Loss 0.7633169889450073\n",
            "Step 1090, Loss 2.026447057723999\n",
            "Step 1100, Loss 1.549429178237915\n",
            "Step 1110, Loss 1.3102599382400513\n",
            "Step 1120, Loss 1.1431238651275635\n",
            "Step 1130, Loss 0.8797774910926819\n",
            "Step 1140, Loss 1.1977583169937134\n",
            "Step 1150, Loss 1.0872273445129395\n",
            "Step 1160, Loss 0.8841811418533325\n",
            "Step 1170, Loss 0.8265912532806396\n",
            "Step 1180, Loss 0.9429364204406738\n",
            "Step 1190, Loss 0.9021116495132446\n",
            "Step 1200, Loss 0.6507604718208313\n"
          ],
          "name": "stdout"
        },
        {
          "output_type": "stream",
          "text": [
            "100%|██████████| 38/38 [00:24<00:00,  2.78it/s]"
          ],
          "name": "stderr"
        },
        {
          "output_type": "stream",
          "text": [
            "Test Accuracy: 0.7171561051004637\n",
            "Starting epoch 9/50, LR = [0.01]\n"
          ],
          "name": "stdout"
        },
        {
          "output_type": "stream",
          "text": [
            "\n"
          ],
          "name": "stderr"
        },
        {
          "output_type": "stream",
          "text": [
            "Step 1210, Loss 0.7035043239593506\n",
            "Step 1220, Loss 0.6784441471099854\n",
            "Step 1230, Loss 0.6707884073257446\n",
            "Step 1240, Loss 0.6595526337623596\n",
            "Step 1250, Loss 0.6392583847045898\n",
            "Step 1260, Loss 0.5533451437950134\n",
            "Step 1270, Loss 0.8113279938697815\n",
            "Step 1280, Loss 0.568958044052124\n",
            "Step 1290, Loss 0.5707979798316956\n",
            "Step 1300, Loss 0.6950943470001221\n",
            "Step 1310, Loss 0.5844439268112183\n",
            "Step 1320, Loss 0.6698378324508667\n",
            "Step 1330, Loss 0.5297828912734985\n",
            "Step 1340, Loss 0.5091875791549683\n",
            "Step 1350, Loss 0.6935264468193054\n"
          ],
          "name": "stdout"
        },
        {
          "output_type": "stream",
          "text": [
            "100%|██████████| 38/38 [00:23<00:00,  3.33it/s]"
          ],
          "name": "stderr"
        },
        {
          "output_type": "stream",
          "text": [
            "Test Accuracy: 0.758887171561051\n",
            "Starting epoch 10/50, LR = [0.01]\n"
          ],
          "name": "stdout"
        },
        {
          "output_type": "stream",
          "text": [
            "\n"
          ],
          "name": "stderr"
        },
        {
          "output_type": "stream",
          "text": [
            "Step 1360, Loss 0.4403861165046692\n",
            "Step 1370, Loss 0.5426526069641113\n",
            "Step 1380, Loss 0.6688056588172913\n",
            "Step 1390, Loss 0.6134107112884521\n",
            "Step 1400, Loss 0.5683691501617432\n",
            "Step 1410, Loss 0.644106924533844\n",
            "Step 1420, Loss 0.4921872019767761\n",
            "Step 1430, Loss 0.5227940082550049\n",
            "Step 1440, Loss 0.6312524080276489\n",
            "Step 1450, Loss 0.5631188154220581\n",
            "Step 1460, Loss 0.5735353231430054\n",
            "Step 1470, Loss 0.6377771496772766\n",
            "Step 1480, Loss 0.679412305355072\n",
            "Step 1490, Loss 0.45630520582199097\n",
            "Step 1500, Loss 0.5406063199043274\n"
          ],
          "name": "stdout"
        },
        {
          "output_type": "stream",
          "text": [
            "100%|██████████| 38/38 [00:24<00:00,  2.57it/s]"
          ],
          "name": "stderr"
        },
        {
          "output_type": "stream",
          "text": [
            "Test Accuracy: 0.7714580113343638\n",
            "Starting epoch 11/50, LR = [0.01]\n"
          ],
          "name": "stdout"
        },
        {
          "output_type": "stream",
          "text": [
            "\n"
          ],
          "name": "stderr"
        },
        {
          "output_type": "stream",
          "text": [
            "Step 1510, Loss 0.460125207901001\n",
            "Step 1520, Loss 0.5648453235626221\n",
            "Step 1530, Loss 0.5942883491516113\n",
            "Step 1540, Loss 0.4370933473110199\n",
            "Step 1550, Loss 0.41805315017700195\n",
            "Step 1560, Loss 0.40310126543045044\n",
            "Step 1570, Loss 0.41488128900527954\n",
            "Step 1580, Loss 0.4046432673931122\n",
            "Step 1590, Loss 0.5465918779373169\n",
            "Step 1600, Loss 0.4431673288345337\n",
            "Step 1610, Loss 0.45060813426971436\n",
            "Step 1620, Loss 0.4577910304069519\n",
            "Step 1630, Loss 0.5089858174324036\n",
            "Step 1640, Loss 0.4391378164291382\n",
            "Step 1650, Loss 0.36523446440696716\n"
          ],
          "name": "stdout"
        },
        {
          "output_type": "stream",
          "text": [
            "\r  0%|          | 0/38 [00:00<?, ?it/s]"
          ],
          "name": "stderr"
        },
        {
          "output_type": "stream",
          "text": [
            "Step 1660, Loss 0.36737486720085144\n"
          ],
          "name": "stdout"
        },
        {
          "output_type": "stream",
          "text": [
            "100%|██████████| 38/38 [00:24<00:00,  2.63it/s]"
          ],
          "name": "stderr"
        },
        {
          "output_type": "stream",
          "text": [
            "Test Accuracy: 0.7884595569294178\n",
            "Starting epoch 12/50, LR = [0.01]\n"
          ],
          "name": "stdout"
        },
        {
          "output_type": "stream",
          "text": [
            "\n"
          ],
          "name": "stderr"
        },
        {
          "output_type": "stream",
          "text": [
            "Step 1670, Loss 0.5695595741271973\n",
            "Step 1680, Loss 0.38484692573547363\n",
            "Step 1690, Loss 0.3675142526626587\n",
            "Step 1700, Loss 0.38852164149284363\n",
            "Step 1710, Loss 0.5194651484489441\n",
            "Step 1720, Loss 0.6066380143165588\n",
            "Step 1730, Loss 0.526864767074585\n",
            "Step 1740, Loss 0.4697609841823578\n",
            "Step 1750, Loss 0.3986482620239258\n",
            "Step 1760, Loss 0.47501009702682495\n",
            "Step 1770, Loss 0.4868943691253662\n",
            "Step 1780, Loss 0.548305332660675\n",
            "Step 1790, Loss 0.43911340832710266\n",
            "Step 1800, Loss 0.4240131974220276\n",
            "Step 1810, Loss 0.4164290726184845\n"
          ],
          "name": "stdout"
        },
        {
          "output_type": "stream",
          "text": [
            "100%|██████████| 38/38 [00:23<00:00,  2.69it/s]"
          ],
          "name": "stderr"
        },
        {
          "output_type": "stream",
          "text": [
            "Test Accuracy: 0.7958784131890778\n",
            "Starting epoch 13/50, LR = [0.01]\n"
          ],
          "name": "stdout"
        },
        {
          "output_type": "stream",
          "text": [
            "\n"
          ],
          "name": "stderr"
        },
        {
          "output_type": "stream",
          "text": [
            "Step 1820, Loss 0.45227038860321045\n",
            "Step 1830, Loss 0.3704133629798889\n",
            "Step 1840, Loss 0.6188207864761353\n",
            "Step 1850, Loss 0.4461113214492798\n",
            "Step 1860, Loss 0.44665250182151794\n",
            "Step 1870, Loss 0.4100528061389923\n",
            "Step 1880, Loss 0.3960533142089844\n",
            "Step 1890, Loss 0.4116153120994568\n",
            "Step 1900, Loss 0.3834664523601532\n",
            "Step 1910, Loss 0.352711021900177\n",
            "Step 1920, Loss 0.3813888430595398\n",
            "Step 1930, Loss 0.4113645553588867\n",
            "Step 1940, Loss 0.4431644380092621\n",
            "Step 1950, Loss 0.3308959901332855\n",
            "Step 1960, Loss 0.3030022084712982\n"
          ],
          "name": "stdout"
        },
        {
          "output_type": "stream",
          "text": [
            "100%|██████████| 38/38 [00:23<00:00,  3.23it/s]"
          ],
          "name": "stderr"
        },
        {
          "output_type": "stream",
          "text": [
            "Test Accuracy: 0.8150437918598661\n",
            "Starting epoch 14/50, LR = [0.01]\n"
          ],
          "name": "stdout"
        },
        {
          "output_type": "stream",
          "text": [
            "\n"
          ],
          "name": "stderr"
        },
        {
          "output_type": "stream",
          "text": [
            "Step 1970, Loss 0.30559712648391724\n",
            "Step 1980, Loss 0.35103073716163635\n",
            "Step 1990, Loss 0.3904062509536743\n",
            "Step 2000, Loss 0.32832610607147217\n",
            "Step 2010, Loss 0.34582996368408203\n",
            "Step 2020, Loss 0.3384563624858856\n",
            "Step 2030, Loss 0.40470483899116516\n",
            "Step 2040, Loss 0.3498642146587372\n",
            "Step 2050, Loss 0.34153681993484497\n",
            "Step 2060, Loss 0.41352248191833496\n",
            "Step 2070, Loss 0.3573334813117981\n",
            "Step 2080, Loss 0.40664806962013245\n",
            "Step 2090, Loss 0.30312180519104004\n",
            "Step 2100, Loss 0.3085741400718689\n",
            "Step 2110, Loss 0.4603031277656555\n"
          ],
          "name": "stdout"
        },
        {
          "output_type": "stream",
          "text": [
            "100%|██████████| 38/38 [00:23<00:00,  3.00it/s]"
          ],
          "name": "stderr"
        },
        {
          "output_type": "stream",
          "text": [
            "Test Accuracy: 0.7912416280267903\n",
            "Starting epoch 15/50, LR = [0.01]\n"
          ],
          "name": "stdout"
        },
        {
          "output_type": "stream",
          "text": [
            "\n"
          ],
          "name": "stderr"
        },
        {
          "output_type": "stream",
          "text": [
            "Step 2120, Loss 0.313255250453949\n",
            "Step 2130, Loss 0.3757612705230713\n",
            "Step 2140, Loss 0.37537863850593567\n",
            "Step 2150, Loss 0.2768113613128662\n",
            "Step 2160, Loss 0.3346564471721649\n",
            "Step 2170, Loss 0.39030563831329346\n",
            "Step 2180, Loss 0.39846259355545044\n",
            "Step 2190, Loss 0.4766644537448883\n",
            "Step 2200, Loss 0.5091742873191833\n",
            "Step 2210, Loss 0.42143550515174866\n",
            "Step 2220, Loss 0.38304463028907776\n",
            "Step 2230, Loss 0.7156854271888733\n",
            "Step 2240, Loss 0.45110034942626953\n",
            "Step 2250, Loss 0.33478283882141113\n",
            "Step 2260, Loss 0.4723169505596161\n"
          ],
          "name": "stdout"
        },
        {
          "output_type": "stream",
          "text": [
            "100%|██████████| 38/38 [00:24<00:00,  2.71it/s]"
          ],
          "name": "stderr"
        },
        {
          "output_type": "stream",
          "text": [
            "Test Accuracy: 0.8150437918598661\n",
            "Starting epoch 16/50, LR = [0.01]\n"
          ],
          "name": "stdout"
        },
        {
          "output_type": "stream",
          "text": [
            "\n"
          ],
          "name": "stderr"
        },
        {
          "output_type": "stream",
          "text": [
            "Step 2270, Loss 0.398284375667572\n",
            "Step 2280, Loss 0.358258455991745\n",
            "Step 2290, Loss 0.4364941120147705\n",
            "Step 2300, Loss 0.4112924337387085\n",
            "Step 2310, Loss 0.26904258131980896\n",
            "Step 2320, Loss 0.3355511724948883\n",
            "Step 2330, Loss 0.27088838815689087\n",
            "Step 2340, Loss 0.21349376440048218\n",
            "Step 2350, Loss 0.31621211767196655\n",
            "Step 2360, Loss 0.2961971163749695\n",
            "Step 2370, Loss 0.38627004623413086\n",
            "Step 2380, Loss 0.4076410233974457\n",
            "Step 2390, Loss 0.37285757064819336\n",
            "Step 2400, Loss 0.36724627017974854\n",
            "Step 2410, Loss 0.3157273828983307\n"
          ],
          "name": "stdout"
        },
        {
          "output_type": "stream",
          "text": [
            "100%|██████████| 38/38 [00:23<00:00,  2.72it/s]"
          ],
          "name": "stderr"
        },
        {
          "output_type": "stream",
          "text": [
            "Test Accuracy: 0.850386398763524\n",
            "Starting epoch 17/50, LR = [0.01]\n"
          ],
          "name": "stdout"
        },
        {
          "output_type": "stream",
          "text": [
            "\n"
          ],
          "name": "stderr"
        },
        {
          "output_type": "stream",
          "text": [
            "Step 2420, Loss 0.32762613892555237\n",
            "Step 2430, Loss 0.25863224267959595\n",
            "Step 2440, Loss 0.34147533774375916\n",
            "Step 2450, Loss 0.31140080094337463\n",
            "Step 2460, Loss 0.3245059847831726\n",
            "Step 2470, Loss 0.36506325006484985\n",
            "Step 2480, Loss 0.23644202947616577\n",
            "Step 2490, Loss 0.3365556597709656\n",
            "Step 2500, Loss 0.28218257427215576\n",
            "Step 2510, Loss 0.25563159584999084\n",
            "Step 2520, Loss 0.3537691831588745\n",
            "Step 2530, Loss 0.31931349635124207\n",
            "Step 2540, Loss 0.2987799048423767\n",
            "Step 2550, Loss 0.27190691232681274\n",
            "Step 2560, Loss 0.2396181970834732\n"
          ],
          "name": "stdout"
        },
        {
          "output_type": "stream",
          "text": [
            "100%|██████████| 38/38 [00:23<00:00,  2.62it/s]"
          ],
          "name": "stderr"
        },
        {
          "output_type": "stream",
          "text": [
            "Test Accuracy: 0.8514167954662545\n",
            "Starting epoch 18/50, LR = [0.01]\n"
          ],
          "name": "stdout"
        },
        {
          "output_type": "stream",
          "text": [
            "\n"
          ],
          "name": "stderr"
        },
        {
          "output_type": "stream",
          "text": [
            "Step 2570, Loss 0.2561454474925995\n",
            "Step 2580, Loss 0.3506163954734802\n",
            "Step 2590, Loss 0.24987922608852386\n",
            "Step 2600, Loss 0.2341478317975998\n",
            "Step 2610, Loss 0.290284126996994\n",
            "Step 2620, Loss 0.3051544725894928\n",
            "Step 2630, Loss 0.2943096160888672\n",
            "Step 2640, Loss 0.28460371494293213\n",
            "Step 2650, Loss 0.28612053394317627\n",
            "Step 2660, Loss 0.2458159476518631\n",
            "Step 2670, Loss 0.5091933012008667\n",
            "Step 2680, Loss 0.3667365610599518\n",
            "Step 2690, Loss 0.29663193225860596\n",
            "Step 2700, Loss 0.3026268482208252\n",
            "Step 2710, Loss 0.26521241664886475\n"
          ],
          "name": "stdout"
        },
        {
          "output_type": "stream",
          "text": [
            "100%|██████████| 38/38 [00:23<00:00,  2.84it/s]"
          ],
          "name": "stderr"
        },
        {
          "output_type": "stream",
          "text": [
            "Test Accuracy: 0.8361669242658424\n",
            "Starting epoch 19/50, LR = [0.01]\n"
          ],
          "name": "stdout"
        },
        {
          "output_type": "stream",
          "text": [
            "\n"
          ],
          "name": "stderr"
        },
        {
          "output_type": "stream",
          "text": [
            "Step 2720, Loss 0.27337658405303955\n",
            "Step 2730, Loss 0.3049233555793762\n",
            "Step 2740, Loss 0.22587740421295166\n",
            "Step 2750, Loss 0.2592301368713379\n",
            "Step 2760, Loss 0.2627401351928711\n",
            "Step 2770, Loss 0.26936671137809753\n",
            "Step 2780, Loss 0.24572709202766418\n",
            "Step 2790, Loss 0.22715409100055695\n",
            "Step 2800, Loss 0.20084437727928162\n",
            "Step 2810, Loss 0.27804914116859436\n",
            "Step 2820, Loss 0.2651199698448181\n",
            "Step 2830, Loss 0.2938884496688843\n",
            "Step 2840, Loss 0.373138964176178\n",
            "Step 2850, Loss 0.25971719622612\n",
            "Step 2860, Loss 0.2742953300476074\n"
          ],
          "name": "stdout"
        },
        {
          "output_type": "stream",
          "text": [
            "100%|██████████| 38/38 [00:24<00:00,  3.22it/s]"
          ],
          "name": "stderr"
        },
        {
          "output_type": "stream",
          "text": [
            "Test Accuracy: 0.8396702730551262\n",
            "Starting epoch 20/50, LR = [0.01]\n"
          ],
          "name": "stdout"
        },
        {
          "output_type": "stream",
          "text": [
            "\n"
          ],
          "name": "stderr"
        },
        {
          "output_type": "stream",
          "text": [
            "Step 2870, Loss 0.3070056140422821\n",
            "Step 2880, Loss 0.2989318072795868\n",
            "Step 2890, Loss 0.23337575793266296\n",
            "Step 2900, Loss 0.3010003864765167\n",
            "Step 2910, Loss 0.24286291003227234\n",
            "Step 2920, Loss 0.31231093406677246\n",
            "Step 2930, Loss 0.3278752267360687\n",
            "Step 2940, Loss 0.229027658700943\n",
            "Step 2950, Loss 0.3280375003814697\n",
            "Step 2960, Loss 0.2494349181652069\n",
            "Step 2970, Loss 0.24309056997299194\n",
            "Step 2980, Loss 0.23133817315101624\n",
            "Step 2990, Loss 0.22725920379161835\n",
            "Step 3000, Loss 0.25016018748283386\n",
            "Step 3010, Loss 0.22955049574375153\n"
          ],
          "name": "stdout"
        },
        {
          "output_type": "stream",
          "text": [
            "100%|██████████| 38/38 [00:23<00:00,  3.19it/s]"
          ],
          "name": "stderr"
        },
        {
          "output_type": "stream",
          "text": [
            "Test Accuracy: 0.8539927872230809\n",
            "Starting epoch 21/50, LR = [0.01]\n"
          ],
          "name": "stdout"
        },
        {
          "output_type": "stream",
          "text": [
            "\n"
          ],
          "name": "stderr"
        },
        {
          "output_type": "stream",
          "text": [
            "Step 3020, Loss 0.25599363446235657\n",
            "Step 3030, Loss 0.27193883061408997\n",
            "Step 3040, Loss 0.3006761372089386\n",
            "Step 3050, Loss 0.3017222583293915\n",
            "Step 3060, Loss 0.22848030924797058\n",
            "Step 3070, Loss 0.2431405484676361\n",
            "Step 3080, Loss 0.23689188063144684\n",
            "Step 3090, Loss 0.30462050437927246\n",
            "Step 3100, Loss 0.2324426770210266\n",
            "Step 3110, Loss 0.29773226380348206\n",
            "Step 3120, Loss 0.39109566807746887\n",
            "Step 3130, Loss 0.25526463985443115\n",
            "Step 3140, Loss 0.3082469403743744\n",
            "Step 3150, Loss 0.23747271299362183\n",
            "Step 3160, Loss 0.2708199620246887\n"
          ],
          "name": "stdout"
        },
        {
          "output_type": "stream",
          "text": [
            "\r  0%|          | 0/38 [00:00<?, ?it/s]"
          ],
          "name": "stderr"
        },
        {
          "output_type": "stream",
          "text": [
            "Step 3170, Loss 0.24791936576366425\n"
          ],
          "name": "stdout"
        },
        {
          "output_type": "stream",
          "text": [
            "100%|██████████| 38/38 [00:23<00:00,  2.73it/s]"
          ],
          "name": "stderr"
        },
        {
          "output_type": "stream",
          "text": [
            "Test Accuracy: 0.8543019062339\n",
            "Starting epoch 22/50, LR = [0.01]\n"
          ],
          "name": "stdout"
        },
        {
          "output_type": "stream",
          "text": [
            "\n"
          ],
          "name": "stderr"
        },
        {
          "output_type": "stream",
          "text": [
            "Step 3180, Loss 0.20652402937412262\n",
            "Step 3190, Loss 0.3370601534843445\n",
            "Step 3200, Loss 0.25514206290245056\n",
            "Step 3210, Loss 0.21465152502059937\n",
            "Step 3220, Loss 0.42480117082595825\n",
            "Step 3230, Loss 0.3652726709842682\n",
            "Step 3240, Loss 0.35508424043655396\n",
            "Step 3250, Loss 0.2376869171857834\n",
            "Step 3260, Loss 0.2526063323020935\n",
            "Step 3270, Loss 0.2516883909702301\n",
            "Step 3280, Loss 0.21370302140712738\n",
            "Step 3290, Loss 0.23079216480255127\n",
            "Step 3300, Loss 0.2543623149394989\n",
            "Step 3310, Loss 0.2420809417963028\n",
            "Step 3320, Loss 0.18295040726661682\n"
          ],
          "name": "stdout"
        },
        {
          "output_type": "stream",
          "text": [
            "100%|██████████| 38/38 [00:23<00:00,  3.00it/s]"
          ],
          "name": "stderr"
        },
        {
          "output_type": "stream",
          "text": [
            "Test Accuracy: 0.8543019062339\n",
            "Starting epoch 23/50, LR = [0.01]\n"
          ],
          "name": "stdout"
        },
        {
          "output_type": "stream",
          "text": [
            "\n"
          ],
          "name": "stderr"
        },
        {
          "output_type": "stream",
          "text": [
            "Step 3330, Loss 0.21556632220745087\n",
            "Step 3340, Loss 0.35896703600883484\n",
            "Step 3350, Loss 0.2620989978313446\n",
            "Step 3360, Loss 0.27821463346481323\n",
            "Step 3370, Loss 0.2947992980480194\n",
            "Step 3380, Loss 0.2536125183105469\n",
            "Step 3390, Loss 0.2644542455673218\n",
            "Step 3400, Loss 0.3390602469444275\n",
            "Step 3410, Loss 0.2621268630027771\n",
            "Step 3420, Loss 0.26698923110961914\n",
            "Step 3430, Loss 0.20464856922626495\n",
            "Step 3440, Loss 0.24571596086025238\n",
            "Step 3450, Loss 0.25039514899253845\n",
            "Step 3460, Loss 0.3523029088973999\n",
            "Step 3470, Loss 0.29649534821510315\n"
          ],
          "name": "stdout"
        },
        {
          "output_type": "stream",
          "text": [
            "100%|██████████| 38/38 [00:23<00:00,  2.79it/s]"
          ],
          "name": "stderr"
        },
        {
          "output_type": "stream",
          "text": [
            "Test Accuracy: 0.8205048943843379\n",
            "Starting epoch 24/50, LR = [0.01]\n"
          ],
          "name": "stdout"
        },
        {
          "output_type": "stream",
          "text": [
            "\n"
          ],
          "name": "stderr"
        },
        {
          "output_type": "stream",
          "text": [
            "Step 3480, Loss 0.24683287739753723\n",
            "Step 3490, Loss 0.27516916394233704\n",
            "Step 3500, Loss 0.3124748766422272\n",
            "Step 3510, Loss 0.2579162120819092\n",
            "Step 3520, Loss 0.2893369197845459\n",
            "Step 3530, Loss 0.2377724051475525\n",
            "Step 3540, Loss 0.24375945329666138\n",
            "Step 3550, Loss 0.17972174286842346\n",
            "Step 3560, Loss 0.17833027243614197\n",
            "Step 3570, Loss 0.19583234190940857\n",
            "Step 3580, Loss 0.21800854802131653\n",
            "Step 3590, Loss 0.2546502351760864\n",
            "Step 3600, Loss 0.22205021977424622\n",
            "Step 3610, Loss 0.19969066977500916\n",
            "Step 3620, Loss 0.19703492522239685\n"
          ],
          "name": "stdout"
        },
        {
          "output_type": "stream",
          "text": [
            "100%|██████████| 38/38 [00:23<00:00,  2.84it/s]"
          ],
          "name": "stderr"
        },
        {
          "output_type": "stream",
          "text": [
            "Test Accuracy: 0.8574961360123647\n",
            "Starting epoch 25/50, LR = [0.01]\n"
          ],
          "name": "stdout"
        },
        {
          "output_type": "stream",
          "text": [
            "\n"
          ],
          "name": "stderr"
        },
        {
          "output_type": "stream",
          "text": [
            "Step 3630, Loss 0.20337069034576416\n",
            "Step 3640, Loss 0.18514715135097504\n",
            "Step 3650, Loss 0.21015936136245728\n",
            "Step 3660, Loss 0.2887023389339447\n",
            "Step 3670, Loss 0.24021941423416138\n",
            "Step 3680, Loss 0.24056380987167358\n",
            "Step 3690, Loss 0.18517479300498962\n",
            "Step 3700, Loss 0.337159663438797\n",
            "Step 3710, Loss 0.24284961819648743\n",
            "Step 3720, Loss 0.1804012805223465\n",
            "Step 3730, Loss 0.22886016964912415\n",
            "Step 3740, Loss 0.26255905628204346\n",
            "Step 3750, Loss 0.2644861340522766\n",
            "Step 3760, Loss 0.2981194853782654\n",
            "Step 3770, Loss 0.2571157217025757\n"
          ],
          "name": "stdout"
        },
        {
          "output_type": "stream",
          "text": [
            "100%|██████████| 38/38 [00:23<00:00,  2.94it/s]"
          ],
          "name": "stderr"
        },
        {
          "output_type": "stream",
          "text": [
            "Test Accuracy: 0.8570839773312725\n",
            "Starting epoch 26/50, LR = [0.01]\n"
          ],
          "name": "stdout"
        },
        {
          "output_type": "stream",
          "text": [
            "\n"
          ],
          "name": "stderr"
        },
        {
          "output_type": "stream",
          "text": [
            "Step 3780, Loss 0.18925003707408905\n",
            "Step 3790, Loss 0.2617547810077667\n",
            "Step 3800, Loss 0.20339477062225342\n",
            "Step 3810, Loss 0.19185200333595276\n",
            "Step 3820, Loss 0.17062948644161224\n",
            "Step 3830, Loss 0.25515955686569214\n",
            "Step 3840, Loss 0.20412683486938477\n",
            "Step 3850, Loss 0.18697898089885712\n",
            "Step 3860, Loss 0.22352735698223114\n",
            "Step 3870, Loss 0.25936996936798096\n",
            "Step 3880, Loss 0.186386376619339\n",
            "Step 3890, Loss 0.19475865364074707\n",
            "Step 3900, Loss 0.19117796421051025\n",
            "Step 3910, Loss 0.20852816104888916\n",
            "Step 3920, Loss 0.21185415983200073\n"
          ],
          "name": "stdout"
        },
        {
          "output_type": "stream",
          "text": [
            "100%|██████████| 38/38 [00:23<00:00,  2.95it/s]"
          ],
          "name": "stderr"
        },
        {
          "output_type": "stream",
          "text": [
            "Test Accuracy: 0.8472952086553323\n",
            "Starting epoch 27/50, LR = [0.01]\n"
          ],
          "name": "stdout"
        },
        {
          "output_type": "stream",
          "text": [
            "\n"
          ],
          "name": "stderr"
        },
        {
          "output_type": "stream",
          "text": [
            "Step 3930, Loss 0.24093611538410187\n",
            "Step 3940, Loss 0.2522818148136139\n",
            "Step 3950, Loss 0.18114988505840302\n",
            "Step 3960, Loss 0.2280072420835495\n",
            "Step 3970, Loss 0.22312888503074646\n",
            "Step 3980, Loss 0.22842296957969666\n",
            "Step 3990, Loss 0.2023579627275467\n",
            "Step 4000, Loss 0.15718084573745728\n",
            "Step 4010, Loss 0.26473331451416016\n",
            "Step 4020, Loss 0.17464838922023773\n",
            "Step 4030, Loss 0.2309444546699524\n",
            "Step 4040, Loss 0.1932247132062912\n",
            "Step 4050, Loss 0.19388185441493988\n",
            "Step 4060, Loss 0.23157519102096558\n",
            "Step 4070, Loss 0.19616174697875977\n"
          ],
          "name": "stdout"
        },
        {
          "output_type": "stream",
          "text": [
            "100%|██████████| 38/38 [00:23<00:00,  2.74it/s]"
          ],
          "name": "stderr"
        },
        {
          "output_type": "stream",
          "text": [
            "Test Accuracy: 0.8603812467800103\n",
            "Starting epoch 28/50, LR = [0.01]\n"
          ],
          "name": "stdout"
        },
        {
          "output_type": "stream",
          "text": [
            "\n"
          ],
          "name": "stderr"
        },
        {
          "output_type": "stream",
          "text": [
            "Step 4080, Loss 0.19937598705291748\n",
            "Step 4090, Loss 0.14614637196063995\n",
            "Step 4100, Loss 0.18397179245948792\n",
            "Step 4110, Loss 0.20977987349033356\n",
            "Step 4120, Loss 0.23887504637241364\n",
            "Step 4130, Loss 0.20845018327236176\n",
            "Step 4140, Loss 0.21690979599952698\n",
            "Step 4150, Loss 0.25390392541885376\n",
            "Step 4160, Loss 0.19789867103099823\n",
            "Step 4170, Loss 0.18705597519874573\n",
            "Step 4180, Loss 0.16849932074546814\n",
            "Step 4190, Loss 0.2016044557094574\n",
            "Step 4200, Loss 0.2074192762374878\n",
            "Step 4210, Loss 0.17151638865470886\n",
            "Step 4220, Loss 0.17802947759628296\n"
          ],
          "name": "stdout"
        },
        {
          "output_type": "stream",
          "text": [
            "100%|██████████| 38/38 [00:24<00:00,  2.78it/s]"
          ],
          "name": "stderr"
        },
        {
          "output_type": "stream",
          "text": [
            "Test Accuracy: 0.8607934054611025\n",
            "Starting epoch 29/50, LR = [0.01]\n"
          ],
          "name": "stdout"
        },
        {
          "output_type": "stream",
          "text": [
            "\n"
          ],
          "name": "stderr"
        },
        {
          "output_type": "stream",
          "text": [
            "Step 4230, Loss 0.2142753154039383\n",
            "Step 4240, Loss 0.20169377326965332\n",
            "Step 4250, Loss 0.18465521931648254\n",
            "Step 4260, Loss 0.19165657460689545\n",
            "Step 4270, Loss 0.17757870256900787\n",
            "Step 4280, Loss 0.20293490588665009\n",
            "Step 4290, Loss 0.21669822931289673\n",
            "Step 4300, Loss 0.1916317343711853\n",
            "Step 4310, Loss 0.1984059065580368\n",
            "Step 4320, Loss 0.21354809403419495\n",
            "Step 4330, Loss 0.17446368932724\n",
            "Step 4340, Loss 0.1944151073694229\n",
            "Step 4350, Loss 0.28952261805534363\n",
            "Step 4360, Loss 0.24121087789535522\n",
            "Step 4370, Loss 0.20363843441009521\n"
          ],
          "name": "stdout"
        },
        {
          "output_type": "stream",
          "text": [
            "100%|██████████| 38/38 [00:23<00:00,  2.82it/s]"
          ],
          "name": "stderr"
        },
        {
          "output_type": "stream",
          "text": [
            "Test Accuracy: 0.8489438433797012\n",
            "Starting epoch 30/50, LR = [0.01]\n"
          ],
          "name": "stdout"
        },
        {
          "output_type": "stream",
          "text": [
            "\n"
          ],
          "name": "stderr"
        },
        {
          "output_type": "stream",
          "text": [
            "Step 4380, Loss 0.2395622432231903\n",
            "Step 4390, Loss 0.15138772130012512\n",
            "Step 4400, Loss 0.16243885457515717\n",
            "Step 4410, Loss 0.19975082576274872\n",
            "Step 4420, Loss 0.16272175312042236\n",
            "Step 4430, Loss 0.20393188297748566\n",
            "Step 4440, Loss 0.16580358147621155\n",
            "Step 4450, Loss 0.174989253282547\n",
            "Step 4460, Loss 0.22144725918769836\n",
            "Step 4470, Loss 0.2233482003211975\n",
            "Step 4480, Loss 0.17940972745418549\n",
            "Step 4490, Loss 0.16144904494285583\n",
            "Step 4500, Loss 0.2536330223083496\n",
            "Step 4510, Loss 0.18859797716140747\n",
            "Step 4520, Loss 0.16794177889823914\n"
          ],
          "name": "stdout"
        },
        {
          "output_type": "stream",
          "text": [
            "100%|██████████| 38/38 [00:23<00:00,  2.95it/s]"
          ],
          "name": "stderr"
        },
        {
          "output_type": "stream",
          "text": [
            "Test Accuracy: 0.8609994848016487\n",
            "Starting epoch 31/50, LR = [0.01]\n"
          ],
          "name": "stdout"
        },
        {
          "output_type": "stream",
          "text": [
            "\n"
          ],
          "name": "stderr"
        },
        {
          "output_type": "stream",
          "text": [
            "Step 4530, Loss 0.19519498944282532\n",
            "Step 4540, Loss 0.16468091309070587\n",
            "Step 4550, Loss 0.19349724054336548\n",
            "Step 4560, Loss 0.22831276059150696\n",
            "Step 4570, Loss 0.13568054139614105\n",
            "Step 4580, Loss 0.17339327931404114\n",
            "Step 4590, Loss 0.1953451931476593\n",
            "Step 4600, Loss 0.26072970032691956\n",
            "Step 4610, Loss 0.2131011188030243\n",
            "Step 4620, Loss 0.15314361453056335\n",
            "Step 4630, Loss 0.2240614891052246\n",
            "Step 4640, Loss 0.14802733063697815\n",
            "Step 4650, Loss 0.21361935138702393\n",
            "Step 4660, Loss 0.14357444643974304\n",
            "Step 4670, Loss 0.16797670722007751\n"
          ],
          "name": "stdout"
        },
        {
          "output_type": "stream",
          "text": [
            "\r  0%|          | 0/38 [00:00<?, ?it/s]"
          ],
          "name": "stderr"
        },
        {
          "output_type": "stream",
          "text": [
            "Step 4680, Loss 0.18051116168498993\n"
          ],
          "name": "stdout"
        },
        {
          "output_type": "stream",
          "text": [
            "100%|██████████| 38/38 [00:23<00:00,  2.87it/s]"
          ],
          "name": "stderr"
        },
        {
          "output_type": "stream",
          "text": [
            "Test Accuracy: 0.8706852138073158\n",
            "Starting epoch 32/50, LR = [0.01]\n"
          ],
          "name": "stdout"
        },
        {
          "output_type": "stream",
          "text": [
            "\n"
          ],
          "name": "stderr"
        },
        {
          "output_type": "stream",
          "text": [
            "Step 4690, Loss 0.185613751411438\n",
            "Step 4700, Loss 0.1553390920162201\n",
            "Step 4710, Loss 0.16600443422794342\n",
            "Step 4720, Loss 0.21465882658958435\n",
            "Step 4730, Loss 0.21309781074523926\n",
            "Step 4740, Loss 0.20671643316745758\n",
            "Step 4750, Loss 0.15414303541183472\n",
            "Step 4760, Loss 0.20690511167049408\n",
            "Step 4770, Loss 0.1793612539768219\n",
            "Step 4780, Loss 0.25746265053749084\n",
            "Step 4790, Loss 0.17468738555908203\n",
            "Step 4800, Loss 0.16491562128067017\n",
            "Step 4810, Loss 0.2388724684715271\n",
            "Step 4820, Loss 0.3119261860847473\n",
            "Step 4830, Loss 0.23924657702445984\n"
          ],
          "name": "stdout"
        },
        {
          "output_type": "stream",
          "text": [
            "100%|██████████| 38/38 [00:24<00:00,  2.80it/s]"
          ],
          "name": "stderr"
        },
        {
          "output_type": "stream",
          "text": [
            "Test Accuracy: 0.8660484286450283\n",
            "Starting epoch 33/50, LR = [0.01]\n"
          ],
          "name": "stdout"
        },
        {
          "output_type": "stream",
          "text": [
            "\n"
          ],
          "name": "stderr"
        },
        {
          "output_type": "stream",
          "text": [
            "Step 4840, Loss 0.2381356954574585\n",
            "Step 4850, Loss 0.21720492839813232\n",
            "Step 4860, Loss 0.20446129143238068\n",
            "Step 4870, Loss 0.22288432717323303\n",
            "Step 4880, Loss 0.16274720430374146\n",
            "Step 4890, Loss 0.20402449369430542\n",
            "Step 4900, Loss 0.1576349437236786\n",
            "Step 4910, Loss 0.15539336204528809\n",
            "Step 4920, Loss 0.17538435757160187\n",
            "Step 4930, Loss 0.19392290711402893\n",
            "Step 4940, Loss 0.19560857117176056\n",
            "Step 4950, Loss 0.20979148149490356\n",
            "Step 4960, Loss 0.18910714983940125\n",
            "Step 4970, Loss 0.18212316930294037\n",
            "Step 4980, Loss 0.19213463366031647\n"
          ],
          "name": "stdout"
        },
        {
          "output_type": "stream",
          "text": [
            "100%|██████████| 38/38 [00:25<00:00,  2.50it/s]"
          ],
          "name": "stderr"
        },
        {
          "output_type": "stream",
          "text": [
            "Test Accuracy: 0.8533745492014425\n",
            "Starting epoch 34/50, LR = [0.01]\n"
          ],
          "name": "stdout"
        },
        {
          "output_type": "stream",
          "text": [
            "\n"
          ],
          "name": "stderr"
        },
        {
          "output_type": "stream",
          "text": [
            "Step 4990, Loss 0.23073330521583557\n",
            "Step 5000, Loss 0.23041005432605743\n",
            "Step 5010, Loss 0.1815243512392044\n",
            "Step 5020, Loss 0.17393329739570618\n",
            "Step 5030, Loss 0.2205415517091751\n",
            "Step 5040, Loss 0.1632358282804489\n",
            "Step 5050, Loss 0.1632959544658661\n",
            "Step 5060, Loss 0.18306967616081238\n",
            "Step 5070, Loss 0.24108484387397766\n",
            "Step 5080, Loss 0.20404089987277985\n",
            "Step 5090, Loss 0.17166733741760254\n",
            "Step 5100, Loss 0.20035572350025177\n",
            "Step 5110, Loss 0.18276405334472656\n",
            "Step 5120, Loss 0.18137426674365997\n",
            "Step 5130, Loss 0.19544607400894165\n"
          ],
          "name": "stdout"
        },
        {
          "output_type": "stream",
          "text": [
            "100%|██████████| 38/38 [00:24<00:00,  2.72it/s]"
          ],
          "name": "stderr"
        },
        {
          "output_type": "stream",
          "text": [
            "Test Accuracy: 0.8646058732612055\n",
            "Starting epoch 35/50, LR = [0.01]\n"
          ],
          "name": "stdout"
        },
        {
          "output_type": "stream",
          "text": [
            "\n"
          ],
          "name": "stderr"
        },
        {
          "output_type": "stream",
          "text": [
            "Step 5140, Loss 0.18692809343338013\n",
            "Step 5150, Loss 0.14465391635894775\n",
            "Step 5160, Loss 0.19122594594955444\n",
            "Step 5170, Loss 0.1617565155029297\n",
            "Step 5180, Loss 0.1932569146156311\n",
            "Step 5190, Loss 0.16220787167549133\n",
            "Step 5200, Loss 0.15613630414009094\n",
            "Step 5210, Loss 0.1631140261888504\n",
            "Step 5220, Loss 0.16773928701877594\n",
            "Step 5230, Loss 0.1490473747253418\n",
            "Step 5240, Loss 0.19610530138015747\n",
            "Step 5250, Loss 0.14644378423690796\n",
            "Step 5260, Loss 0.17404165863990784\n",
            "Step 5270, Loss 0.20960243046283722\n",
            "Step 5280, Loss 0.16779015958309174\n"
          ],
          "name": "stdout"
        },
        {
          "output_type": "stream",
          "text": [
            "100%|██████████| 38/38 [00:22<00:00,  3.53it/s]"
          ],
          "name": "stderr"
        },
        {
          "output_type": "stream",
          "text": [
            "Test Accuracy: 0.872952086553323\n",
            "Starting epoch 36/50, LR = [0.01]\n"
          ],
          "name": "stdout"
        },
        {
          "output_type": "stream",
          "text": [
            "\n"
          ],
          "name": "stderr"
        },
        {
          "output_type": "stream",
          "text": [
            "Step 5290, Loss 0.13231982290744781\n",
            "Step 5300, Loss 0.1855691820383072\n",
            "Step 5310, Loss 0.2015092968940735\n",
            "Step 5320, Loss 0.14331313967704773\n",
            "Step 5330, Loss 0.1670924872159958\n",
            "Step 5340, Loss 0.20448005199432373\n",
            "Step 5350, Loss 0.1806635558605194\n",
            "Step 5360, Loss 0.17232435941696167\n",
            "Step 5370, Loss 0.16833028197288513\n",
            "Step 5380, Loss 0.22511163353919983\n",
            "Step 5390, Loss 0.1171906441450119\n",
            "Step 5400, Loss 0.15964555740356445\n",
            "Step 5410, Loss 0.20388957858085632\n",
            "Step 5420, Loss 0.18218421936035156\n",
            "Step 5430, Loss 0.1879497468471527\n"
          ],
          "name": "stdout"
        },
        {
          "output_type": "stream",
          "text": [
            "100%|██████████| 38/38 [00:23<00:00,  2.95it/s]"
          ],
          "name": "stderr"
        },
        {
          "output_type": "stream",
          "text": [
            "Test Accuracy: 0.8502833590932509\n",
            "Starting epoch 37/50, LR = [0.01]\n"
          ],
          "name": "stdout"
        },
        {
          "output_type": "stream",
          "text": [
            "\n"
          ],
          "name": "stderr"
        },
        {
          "output_type": "stream",
          "text": [
            "Step 5440, Loss 0.22996507585048676\n",
            "Step 5450, Loss 0.2043752819299698\n",
            "Step 5460, Loss 0.2070656716823578\n",
            "Step 5470, Loss 0.24134643375873566\n",
            "Step 5480, Loss 0.18220238387584686\n",
            "Step 5490, Loss 0.26210957765579224\n",
            "Step 5500, Loss 0.14693856239318848\n",
            "Step 5510, Loss 0.19369149208068848\n",
            "Step 5520, Loss 0.18624626100063324\n",
            "Step 5530, Loss 0.160136878490448\n",
            "Step 5540, Loss 0.13631442189216614\n",
            "Step 5550, Loss 0.1829492300748825\n",
            "Step 5560, Loss 0.14991170167922974\n",
            "Step 5570, Loss 0.14076822996139526\n",
            "Step 5580, Loss 0.16342543065547943\n"
          ],
          "name": "stdout"
        },
        {
          "output_type": "stream",
          "text": [
            "100%|██████████| 38/38 [00:24<00:00,  2.76it/s]"
          ],
          "name": "stderr"
        },
        {
          "output_type": "stream",
          "text": [
            "Test Accuracy: 0.873055126223596\n",
            "Starting epoch 38/50, LR = [0.01]\n"
          ],
          "name": "stdout"
        },
        {
          "output_type": "stream",
          "text": [
            "\n"
          ],
          "name": "stderr"
        },
        {
          "output_type": "stream",
          "text": [
            "Step 5590, Loss 0.1787022054195404\n",
            "Step 5600, Loss 0.1801229864358902\n",
            "Step 5610, Loss 0.16974768042564392\n",
            "Step 5620, Loss 0.14625641703605652\n",
            "Step 5630, Loss 0.2112027406692505\n",
            "Step 5640, Loss 0.18419837951660156\n",
            "Step 5650, Loss 0.17895753681659698\n",
            "Step 5660, Loss 0.1693972945213318\n",
            "Step 5670, Loss 0.18396949768066406\n",
            "Step 5680, Loss 0.17176300287246704\n",
            "Step 5690, Loss 0.16323493421077728\n",
            "Step 5700, Loss 0.15195521712303162\n",
            "Step 5710, Loss 0.18237249553203583\n",
            "Step 5720, Loss 0.1666429340839386\n",
            "Step 5730, Loss 0.19386239349842072\n"
          ],
          "name": "stdout"
        },
        {
          "output_type": "stream",
          "text": [
            "100%|██████████| 38/38 [00:24<00:00,  2.63it/s]"
          ],
          "name": "stderr"
        },
        {
          "output_type": "stream",
          "text": [
            "Test Accuracy: 0.86543019062339\n",
            "Starting epoch 39/50, LR = [0.01]\n"
          ],
          "name": "stdout"
        },
        {
          "output_type": "stream",
          "text": [
            "\n"
          ],
          "name": "stderr"
        },
        {
          "output_type": "stream",
          "text": [
            "Step 5740, Loss 0.18225952982902527\n",
            "Step 5750, Loss 0.15377020835876465\n",
            "Step 5760, Loss 0.17645728588104248\n",
            "Step 5770, Loss 0.22830559313297272\n",
            "Step 5780, Loss 0.2022297978401184\n",
            "Step 5790, Loss 0.17856374382972717\n",
            "Step 5800, Loss 0.159489244222641\n",
            "Step 5810, Loss 0.1783876270055771\n",
            "Step 5820, Loss 0.16104614734649658\n",
            "Step 5830, Loss 0.17627975344657898\n",
            "Step 5840, Loss 0.19341826438903809\n",
            "Step 5850, Loss 0.158335879445076\n",
            "Step 5860, Loss 0.1775970309972763\n",
            "Step 5870, Loss 0.15998531877994537\n",
            "Step 5880, Loss 0.18493850529193878\n"
          ],
          "name": "stdout"
        },
        {
          "output_type": "stream",
          "text": [
            "100%|██████████| 38/38 [00:24<00:00,  2.70it/s]"
          ],
          "name": "stderr"
        },
        {
          "output_type": "stream",
          "text": [
            "Test Accuracy: 0.871097372488408\n",
            "Starting epoch 40/50, LR = [0.01]\n"
          ],
          "name": "stdout"
        },
        {
          "output_type": "stream",
          "text": [
            "\n"
          ],
          "name": "stderr"
        },
        {
          "output_type": "stream",
          "text": [
            "Step 5890, Loss 0.1888773888349533\n",
            "Step 5900, Loss 0.15133827924728394\n",
            "Step 5910, Loss 0.1699996143579483\n",
            "Step 5920, Loss 0.12577290832996368\n",
            "Step 5930, Loss 0.12995105981826782\n",
            "Step 5940, Loss 0.14723853766918182\n",
            "Step 5950, Loss 0.1922863870859146\n",
            "Step 5960, Loss 0.15651944279670715\n",
            "Step 5970, Loss 0.20264065265655518\n",
            "Step 5980, Loss 0.18415936827659607\n",
            "Step 5990, Loss 0.18003565073013306\n",
            "Step 6000, Loss 0.18136022984981537\n",
            "Step 6010, Loss 0.160667285323143\n",
            "Step 6020, Loss 0.1727091372013092\n",
            "Step 6030, Loss 0.1593889743089676\n"
          ],
          "name": "stdout"
        },
        {
          "output_type": "stream",
          "text": [
            "100%|██████████| 38/38 [00:24<00:00,  2.90it/s]"
          ],
          "name": "stderr"
        },
        {
          "output_type": "stream",
          "text": [
            "Test Accuracy: 0.8737764039155075\n",
            "Starting epoch 41/50, LR = [0.0001]\n"
          ],
          "name": "stdout"
        },
        {
          "output_type": "stream",
          "text": [
            "\n"
          ],
          "name": "stderr"
        },
        {
          "output_type": "stream",
          "text": [
            "Step 6040, Loss 0.16935595870018005\n",
            "Step 6050, Loss 0.15864092111587524\n",
            "Step 6060, Loss 0.18766669929027557\n",
            "Step 6070, Loss 0.14201956987380981\n",
            "Step 6080, Loss 0.13835158944129944\n",
            "Step 6090, Loss 0.17745959758758545\n",
            "Step 6100, Loss 0.14034709334373474\n",
            "Step 6110, Loss 0.1561354547739029\n",
            "Step 6120, Loss 0.1507740616798401\n",
            "Step 6130, Loss 0.18125104904174805\n",
            "Step 6140, Loss 0.13179969787597656\n",
            "Step 6150, Loss 0.11280929297208786\n",
            "Step 6160, Loss 0.15697643160820007\n",
            "Step 6170, Loss 0.15814724564552307\n",
            "Step 6180, Loss 0.15329647064208984\n"
          ],
          "name": "stdout"
        },
        {
          "output_type": "stream",
          "text": [
            "\r  0%|          | 0/38 [00:00<?, ?it/s]"
          ],
          "name": "stderr"
        },
        {
          "output_type": "stream",
          "text": [
            "Step 6190, Loss 0.170210599899292\n"
          ],
          "name": "stdout"
        },
        {
          "output_type": "stream",
          "text": [
            "100%|██████████| 38/38 [00:24<00:00,  2.76it/s]"
          ],
          "name": "stderr"
        },
        {
          "output_type": "stream",
          "text": [
            "Test Accuracy: 0.8639876352395672\n",
            "Starting epoch 42/50, LR = [0.001]\n"
          ],
          "name": "stdout"
        },
        {
          "output_type": "stream",
          "text": [
            "\n"
          ],
          "name": "stderr"
        },
        {
          "output_type": "stream",
          "text": [
            "Step 6200, Loss 0.16336819529533386\n",
            "Step 6210, Loss 0.1691506803035736\n",
            "Step 6220, Loss 0.12663817405700684\n",
            "Step 6230, Loss 0.13966277241706848\n",
            "Step 6240, Loss 0.14045915007591248\n",
            "Step 6250, Loss 0.16256031394004822\n",
            "Step 6260, Loss 0.13073259592056274\n",
            "Step 6270, Loss 0.15890257060527802\n",
            "Step 6280, Loss 0.14585697650909424\n",
            "Step 6290, Loss 0.1181805431842804\n",
            "Step 6300, Loss 0.16273579001426697\n",
            "Step 6310, Loss 0.14841210842132568\n",
            "Step 6320, Loss 0.14527803659439087\n",
            "Step 6330, Loss 0.16676491498947144\n",
            "Step 6340, Loss 0.1498296558856964\n"
          ],
          "name": "stdout"
        },
        {
          "output_type": "stream",
          "text": [
            "100%|██████████| 38/38 [00:24<00:00,  3.14it/s]"
          ],
          "name": "stderr"
        },
        {
          "output_type": "stream",
          "text": [
            "Test Accuracy: 0.8731581658938692\n",
            "Starting epoch 43/50, LR = [0.001]\n"
          ],
          "name": "stdout"
        },
        {
          "output_type": "stream",
          "text": [
            "\n"
          ],
          "name": "stderr"
        },
        {
          "output_type": "stream",
          "text": [
            "Step 6350, Loss 0.15939074754714966\n",
            "Step 6360, Loss 0.17242084443569183\n",
            "Step 6370, Loss 0.137490376830101\n",
            "Step 6380, Loss 0.13349977135658264\n",
            "Step 6390, Loss 0.17576679587364197\n",
            "Step 6400, Loss 0.16686013340950012\n",
            "Step 6410, Loss 0.124366395175457\n",
            "Step 6420, Loss 0.18042810261249542\n",
            "Step 6430, Loss 0.133658766746521\n",
            "Step 6440, Loss 0.16135461628437042\n",
            "Step 6450, Loss 0.1298600137233734\n",
            "Step 6460, Loss 0.15422369539737701\n",
            "Step 6470, Loss 0.18222874402999878\n",
            "Step 6480, Loss 0.1552281379699707\n",
            "Step 6490, Loss 0.14405308663845062\n"
          ],
          "name": "stdout"
        },
        {
          "output_type": "stream",
          "text": [
            "100%|██████████| 38/38 [00:24<00:00,  3.05it/s]"
          ],
          "name": "stderr"
        },
        {
          "output_type": "stream",
          "text": [
            "Test Accuracy: 0.8651210716125708\n",
            "Starting epoch 44/50, LR = [0.001]\n"
          ],
          "name": "stdout"
        },
        {
          "output_type": "stream",
          "text": [
            "\n"
          ],
          "name": "stderr"
        },
        {
          "output_type": "stream",
          "text": [
            "Step 6500, Loss 0.15632757544517517\n",
            "Step 6510, Loss 0.1224944144487381\n",
            "Step 6520, Loss 0.17113706469535828\n",
            "Step 6530, Loss 0.15529555082321167\n",
            "Step 6540, Loss 0.1104850023984909\n",
            "Step 6550, Loss 0.1454557478427887\n",
            "Step 6560, Loss 0.1515495926141739\n",
            "Step 6570, Loss 0.12960617244243622\n",
            "Step 6580, Loss 0.1843002438545227\n",
            "Step 6590, Loss 0.18814095854759216\n",
            "Step 6600, Loss 0.12428209185600281\n",
            "Step 6610, Loss 0.1761482208967209\n",
            "Step 6620, Loss 0.13998088240623474\n",
            "Step 6630, Loss 0.10680779814720154\n",
            "Step 6640, Loss 0.12327639758586884\n"
          ],
          "name": "stdout"
        },
        {
          "output_type": "stream",
          "text": [
            "100%|██████████| 38/38 [00:24<00:00,  2.85it/s]"
          ],
          "name": "stderr"
        },
        {
          "output_type": "stream",
          "text": [
            "Test Accuracy: 0.8630602782071097\n",
            "Starting epoch 45/50, LR = [0.001]\n"
          ],
          "name": "stdout"
        },
        {
          "output_type": "stream",
          "text": [
            "\n"
          ],
          "name": "stderr"
        },
        {
          "output_type": "stream",
          "text": [
            "Step 6650, Loss 0.12497058510780334\n",
            "Step 6660, Loss 0.12929987907409668\n",
            "Step 6670, Loss 0.15363778173923492\n",
            "Step 6680, Loss 0.19918286800384521\n",
            "Step 6690, Loss 0.16954706609249115\n",
            "Step 6700, Loss 0.1815909743309021\n",
            "Step 6710, Loss 0.16018930077552795\n",
            "Step 6720, Loss 0.18141502141952515\n",
            "Step 6730, Loss 0.16841323673725128\n",
            "Step 6740, Loss 0.16441218554973602\n",
            "Step 6750, Loss 0.15634983777999878\n",
            "Step 6760, Loss 0.11851777136325836\n",
            "Step 6770, Loss 0.14560481905937195\n",
            "Step 6780, Loss 0.15344488620758057\n",
            "Step 6790, Loss 0.1435243785381317\n"
          ],
          "name": "stdout"
        },
        {
          "output_type": "stream",
          "text": [
            "100%|██████████| 38/38 [00:24<00:00,  2.73it/s]"
          ],
          "name": "stderr"
        },
        {
          "output_type": "stream",
          "text": [
            "Test Accuracy: 0.8758371973209685\n",
            "Starting epoch 46/50, LR = [0.001]\n"
          ],
          "name": "stdout"
        },
        {
          "output_type": "stream",
          "text": [
            "\n"
          ],
          "name": "stderr"
        },
        {
          "output_type": "stream",
          "text": [
            "Step 6800, Loss 0.1451512575149536\n",
            "Step 6810, Loss 0.17557919025421143\n",
            "Step 6820, Loss 0.11626866459846497\n",
            "Step 6830, Loss 0.12414218485355377\n",
            "Step 6840, Loss 0.1575237661600113\n",
            "Step 6850, Loss 0.13957303762435913\n",
            "Step 6860, Loss 0.16335147619247437\n",
            "Step 6870, Loss 0.14336618781089783\n",
            "Step 6880, Loss 0.1470736861228943\n",
            "Step 6890, Loss 0.1437060683965683\n",
            "Step 6900, Loss 0.115738146007061\n",
            "Step 6910, Loss 0.12033519148826599\n",
            "Step 6920, Loss 0.14045843482017517\n",
            "Step 6930, Loss 0.17446833848953247\n",
            "Step 6940, Loss 0.1357145607471466\n"
          ],
          "name": "stdout"
        },
        {
          "output_type": "stream",
          "text": [
            "100%|██████████| 38/38 [00:24<00:00,  2.70it/s]"
          ],
          "name": "stderr"
        },
        {
          "output_type": "stream",
          "text": [
            "Test Accuracy: 0.8637815558990212\n",
            "Starting epoch 47/50, LR = [0.001]\n"
          ],
          "name": "stdout"
        },
        {
          "output_type": "stream",
          "text": [
            "\n"
          ],
          "name": "stderr"
        },
        {
          "output_type": "stream",
          "text": [
            "Step 6950, Loss 0.15296150743961334\n",
            "Step 6960, Loss 0.16136398911476135\n",
            "Step 6970, Loss 0.13329924643039703\n",
            "Step 6980, Loss 0.1325654834508896\n",
            "Step 6990, Loss 0.16402435302734375\n",
            "Step 7000, Loss 0.1311940997838974\n",
            "Step 7010, Loss 0.15105408430099487\n",
            "Step 7020, Loss 0.17489297688007355\n",
            "Step 7030, Loss 0.14232003688812256\n",
            "Step 7040, Loss 0.164371058344841\n",
            "Step 7050, Loss 0.13539183139801025\n",
            "Step 7060, Loss 0.12313878536224365\n",
            "Step 7070, Loss 0.13059577345848083\n",
            "Step 7080, Loss 0.1502278745174408\n",
            "Step 7090, Loss 0.1399068832397461\n"
          ],
          "name": "stdout"
        },
        {
          "output_type": "stream",
          "text": [
            "100%|██████████| 38/38 [00:23<00:00,  2.77it/s]"
          ],
          "name": "stderr"
        },
        {
          "output_type": "stream",
          "text": [
            "Test Accuracy: 0.8731581658938692\n",
            "Starting epoch 48/50, LR = [0.001]\n"
          ],
          "name": "stdout"
        },
        {
          "output_type": "stream",
          "text": [
            "\n"
          ],
          "name": "stderr"
        },
        {
          "output_type": "stream",
          "text": [
            "Step 7100, Loss 0.14542542397975922\n",
            "Step 7110, Loss 0.13944199681282043\n",
            "Step 7120, Loss 0.14323097467422485\n",
            "Step 7130, Loss 0.17332948744297028\n",
            "Step 7140, Loss 0.14766338467597961\n",
            "Step 7150, Loss 0.14350607991218567\n",
            "Step 7160, Loss 0.1740993857383728\n",
            "Step 7170, Loss 0.15696565806865692\n",
            "Step 7180, Loss 0.12687861919403076\n",
            "Step 7190, Loss 0.13683807849884033\n",
            "Step 7200, Loss 0.1639314591884613\n",
            "Step 7210, Loss 0.1303463578224182\n",
            "Step 7220, Loss 0.15903878211975098\n",
            "Step 7230, Loss 0.16933980584144592\n",
            "Step 7240, Loss 0.14594405889511108\n"
          ],
          "name": "stdout"
        },
        {
          "output_type": "stream",
          "text": [
            "100%|██████████| 38/38 [00:24<00:00,  2.63it/s]"
          ],
          "name": "stderr"
        },
        {
          "output_type": "stream",
          "text": [
            "Test Accuracy: 0.8738794435857805\n",
            "Starting epoch 49/50, LR = [0.001]\n"
          ],
          "name": "stdout"
        },
        {
          "output_type": "stream",
          "text": [
            "\n"
          ],
          "name": "stderr"
        },
        {
          "output_type": "stream",
          "text": [
            "Step 7250, Loss 0.13278080523014069\n",
            "Step 7260, Loss 0.162591814994812\n",
            "Step 7270, Loss 0.14945663511753082\n",
            "Step 7280, Loss 0.14771431684494019\n",
            "Step 7290, Loss 0.1468762755393982\n",
            "Step 7300, Loss 0.14799124002456665\n",
            "Step 7310, Loss 0.1772785782814026\n",
            "Step 7320, Loss 0.17306986451148987\n",
            "Step 7330, Loss 0.13309162855148315\n",
            "Step 7340, Loss 0.16062279045581818\n",
            "Step 7350, Loss 0.16262003779411316\n",
            "Step 7360, Loss 0.14910845458507538\n",
            "Step 7370, Loss 0.15124325454235077\n",
            "Step 7380, Loss 0.14887845516204834\n",
            "Step 7390, Loss 0.14537370204925537\n"
          ],
          "name": "stdout"
        },
        {
          "output_type": "stream",
          "text": [
            "100%|██████████| 38/38 [00:23<00:00,  3.13it/s]"
          ],
          "name": "stderr"
        },
        {
          "output_type": "stream",
          "text": [
            "Test Accuracy: 0.8775888717156105\n",
            "Starting epoch 50/50, LR = [0.001]\n"
          ],
          "name": "stdout"
        },
        {
          "output_type": "stream",
          "text": [
            "\n"
          ],
          "name": "stderr"
        },
        {
          "output_type": "stream",
          "text": [
            "Step 7400, Loss 0.15963846445083618\n",
            "Step 7410, Loss 0.14590366184711456\n",
            "Step 7420, Loss 0.15464256703853607\n",
            "Step 7430, Loss 0.13462239503860474\n",
            "Step 7440, Loss 0.16183996200561523\n",
            "Step 7450, Loss 0.14723540842533112\n",
            "Step 7460, Loss 0.14855408668518066\n",
            "Step 7470, Loss 0.17302541434764862\n",
            "Step 7480, Loss 0.15159396827220917\n",
            "Step 7490, Loss 0.137086421251297\n",
            "Step 7500, Loss 0.14375250041484833\n",
            "Step 7510, Loss 0.16086632013320923\n",
            "Step 7520, Loss 0.16076886653900146\n",
            "Step 7530, Loss 0.15506169199943542\n",
            "Step 7540, Loss 0.16948243975639343\n"
          ],
          "name": "stdout"
        },
        {
          "output_type": "stream",
          "text": [
            "100%|██████████| 38/38 [00:23<00:00,  2.72it/s]"
          ],
          "name": "stderr"
        },
        {
          "output_type": "stream",
          "text": [
            "Test Accuracy: 0.870994332818135\n"
          ],
          "name": "stdout"
        },
        {
          "output_type": "stream",
          "text": [
            "\n"
          ],
          "name": "stderr"
        }
      ]
    },
    {
      "cell_type": "markdown",
      "metadata": {
        "id": "UsHFI-GAJd69",
        "colab_type": "text"
      },
      "source": [
        "**Test**"
      ]
    },
    {
      "cell_type": "code",
      "metadata": {
        "id": "EO3HV5pqJg1o",
        "colab_type": "code",
        "colab": {
          "base_uri": "https://localhost:8080/",
          "height": 52
        },
        "outputId": "959ccd2f-231c-469e-99f3-966b76af0803"
      },
      "source": [
        "net = torch.load(modelSaveDir + modelName)\n",
        "net = net.to(DEVICE) # this will bring the network to GPU if DEVICE is cuda\n",
        "net.train(False) # Set Network to evaluation mode\n",
        "\n",
        "running_corrects = 0\n",
        "for images, labels in tqdm(test_dataloader):\n",
        "  images = images.to(DEVICE)\n",
        "  labels = labels.to(DEVICE)\n",
        "\n",
        "  # Forward Pass\n",
        "  outputs = net(images)\n",
        "\n",
        "  # Get predictions\n",
        "  _, preds = torch.max(outputs.data, 1)\n",
        "\n",
        "  # Update Corrects\n",
        "  running_corrects += torch.sum(preds == labels.data).data.item()\n",
        "\n",
        "# Calculate Accuracy\n",
        "accuracy = running_corrects / float(len(test_dataset))\n",
        "\n",
        "print('Test Accuracy: {}'.format(accuracy))"
      ],
      "execution_count": null,
      "outputs": [
        {
          "output_type": "stream",
          "text": [
            "100%|██████████| 38/38 [00:24<00:00,  2.88it/s]"
          ],
          "name": "stderr"
        },
        {
          "output_type": "stream",
          "text": [
            "Test Accuracy: 0.869242658423493\n"
          ],
          "name": "stdout"
        },
        {
          "output_type": "stream",
          "text": [
            "\n"
          ],
          "name": "stderr"
        }
      ]
    },
    {
      "cell_type": "code",
      "metadata": {
        "id": "oSjSe-5w1E9e",
        "colab_type": "code",
        "colab": {
          "base_uri": "https://localhost:8080/",
          "height": 294
        },
        "outputId": "d8030245-c520-4535-b566-e60c6cc0e7e5"
      },
      "source": [
        "import matplotlib.pyplot as plt\n",
        "\n",
        "plt.plot(accVec)\n",
        "plt.plot(lossVec)\n",
        "plt.title(\"The accuracy graph over the epochs\")\n",
        "plt.xlabel(\"Epochs\")\n",
        "plt.ylabel(\"Accuracy\")\n",
        "plt.show()"
      ],
      "execution_count": null,
      "outputs": [
        {
          "output_type": "display_data",
          "data": {
            "image/png": "[encoded data removed]",
            "text/plain": [
              "<Figure size 432x288 with 1 Axes>"
            ]
          },
          "metadata": {
            "tags": []
          }
        }
      ]
    },
    {
      "cell_type": "code",
      "metadata": {
        "id": "KAk8nBomnT9e",
        "colab_type": "code",
        "colab": {
          "base_uri": "https://localhost:8080/",
          "height": 34
        },
        "outputId": "ac22b573-8697-4cf1-e011-a2d25901c53b"
      },
      "source": [
        "# print(test_dataloader.dataset.dataset.classes)"
      ],
      "execution_count": null,
      "outputs": [
        {
          "output_type": "stream",
          "text": [
            "['Bladder', 'Cervics', 'HeadNeck', 'Kidney', 'Lung', 'Ovary', 'Pancreas', 'Prostate', 'Sarcoma', 'Skin', 'Uterus']\n"
          ],
          "name": "stdout"
        }
      ]
    }
  ]
}